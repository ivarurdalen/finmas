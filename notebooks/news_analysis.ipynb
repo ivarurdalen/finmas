{
 "cells": [
  {
   "cell_type": "markdown",
   "metadata": {},
   "source": [
    "# News Analysis by FinMAS\n",
    "\n",
    "This notebook can be used to run an analysis by News Analysis crew instead of using the UI / panel app."
   ]
  },
  {
   "cell_type": "code",
   "execution_count": null,
   "metadata": {},
   "outputs": [],
   "source": [
    "# Convenience function to change the working directory to the root of the project if necessary\n",
    "import os\n",
    "from pathlib import Path\n",
    "\n",
    "if not Path(\"finmas\").exists():\n",
    "    os.chdir(\"..\")\n",
    "# print(f\"Current working directory: {Path.cwd()}\")"
   ]
  },
  {
   "cell_type": "code",
   "execution_count": null,
   "metadata": {},
   "outputs": [],
   "source": [
    "%%capture\n",
    "import time\n",
    "\n",
    "from IPython.display import Markdown, display\n",
    "\n",
    "from finmas.constants import defaults\n",
    "from finmas.crews import NewsAnalysisCrew\n",
    "from finmas.crews.utils import CrewRunMetrics, get_yaml_config_as_markdown, save_crew_output\n",
    "from finmas.utils.common import format_time_spent"
   ]
  },
  {
   "cell_type": "markdown",
   "metadata": {},
   "source": [
    "To be able to run this notebook make sure the necessary API_KEY for the LLM is set in the `.env` file\n",
    "or set in the environment variables manually\n",
    "\n",
    "| provider | API_KEY |\n",
    "| --- | --- |\n",
    "| groq | GROQ_API_KEY |\n",
    "| openai | OPENAI_API_KEY |"
   ]
  },
  {
   "cell_type": "markdown",
   "metadata": {},
   "source": [
    "## Configuration\n",
    "\n",
    "List of Groq models: https://console.groq.com/settings/limits"
   ]
  },
  {
   "cell_type": "code",
   "execution_count": null,
   "metadata": {},
   "outputs": [],
   "source": [
    "TICKER = \"TSLA\"\n",
    "NEWS_START_DATE = defaults[\"news_start_date\"]\n",
    "NEWS_END_DATE = defaults[\"news_end_date\"]\n",
    "\n",
    "# Groq setup\n",
    "# LLM_PROVIDER = \"groq\"\n",
    "# LLM_MODEL = \"llama3-8b-8192\"\n",
    "# EMBEDDING_MODEL = defaults[\"hf_embedding_model\"]\n",
    "\n",
    "# Change the model here if needed\n",
    "# OpenAI setup\n",
    "LLM_PROVIDER = \"openai\"\n",
    "# LLM_MODEL = \"gpt-4o\"\n",
    "LLM_MODEL = \"gpt-4o-mini\"\n",
    "EMBEDDING_MODEL = defaults[\"openai_embedding_model\"]\n",
    "\n",
    "# LLM configuration\n",
    "LLM_TEMPERATURE = 0.0\n",
    "LLM_MAX_TOKENS = 1024\n",
    "\n",
    "SIMILARITY_TOP_K = 3  # Number of similar news articles to send to the LLM\n",
    "\n",
    "CREW_NAME = \"news\""
   ]
  },
  {
   "cell_type": "markdown",
   "metadata": {},
   "source": [
    "## Crew Configuration"
   ]
  },
  {
   "cell_type": "code",
   "execution_count": null,
   "metadata": {},
   "outputs": [],
   "source": [
    "config_path = Path.cwd() / f\"finmas/crews/{CREW_NAME}/config\""
   ]
  },
  {
   "cell_type": "markdown",
   "metadata": {},
   "source": [
    "### Agents"
   ]
  },
  {
   "cell_type": "code",
   "execution_count": null,
   "metadata": {},
   "outputs": [
    {
     "data": {
      "text/markdown": [
       "### News Analyzer\n",
       "\n",
       "- **Role**: Financial News Analyst\n",
       "- **Goal**: Extract and analyze key information from individual news items to provide a deep understanding of events impacting the company TSLA.\n",
       "- **Backstory**: You are an experienced financial news analyst with a strong focus on identifying key events and interpreting their implications for a company's financial performance and market standing.\n",
       "\n",
       "### Sentiment Analyzer\n",
       "\n",
       "- **Role**: Financial Sentiment Expert\n",
       "- **Goal**: Assess the sentiment of news articles to determine public perception and potential market impacts for TSLA.\n",
       "- **Backstory**: You are a specialist in sentiment analysis, with deep knowledge of financial markets and an ability to evaluate how media sentiment can influence investor behavior and company reputation.\n",
       "\n",
       "### News Summarizer\n",
       "\n",
       "- **Role**: Financial News Summarizer\n",
       "- **Goal**: Synthesize analyzed data and generate a coherent and insightful summary of news events, market sentiment, and key company updates for TSLA.\n",
       "- **Backstory**: You are a skilled financial journalist with expertise in summarizing complex financial news into accessible, concise reports that assist stakeholders in making informed decisions.\n"
      ],
      "text/plain": [
       "<IPython.core.display.Markdown object>"
      ]
     },
     "metadata": {},
     "output_type": "display_data"
    }
   ],
   "source": [
    "display(Markdown(get_yaml_config_as_markdown(config_path, \"agents\", inputs={\"ticker\": TICKER})))"
   ]
  },
  {
   "cell_type": "markdown",
   "metadata": {},
   "source": [
    "### Tasks Definition"
   ]
  },
  {
   "cell_type": "code",
   "execution_count": null,
   "metadata": {},
   "outputs": [
    {
     "data": {
      "text/markdown": [
       "### News Analyzer Task\n",
       "\n",
       "- **Description**: Analyze recent news articles about the company TSLA and provide a detailed report highlighting the most impactful events and notable news stories. Focus on events that could significantly affect the company's financial standing or public perception.\n",
       "- **Expected Output**: A comprehensive news analysis report including key events, impactful news stories, and an assessment of their potential implications for the company.\n",
       "- **Agent**: news_analyzer\n",
       "\n",
       "### Sentiment Analysis Task\n",
       "\n",
       "- **Description**: Conduct a sentiment analysis on the news articles related to TSLA, determining the overall tone and public perception of the company. Include insights into whether the sentiment is positive, negative, or neutral, and explain the reasons behind this sentiment.\n",
       "- **Expected Output**: A detailed sentiment analysis report that provides an overall sentiment score, categorizes each article by tone, and discusses the potential effects of the sentiment on the company's market position.\n",
       "- **Agent**: sentiment_analyzer\n",
       "\n",
       "### News Summary Task\n",
       "\n",
       "- **Description**: Summarize the key insights from the news articles for TSLA, providing an overview of important events, market sentiment, and significant company news. The summary should present a holistic view of the news landscape for the company, highlighting both the qualitative and quantitative aspects.\n",
       "- **Expected Output**: A clear and concise news summary report that includes key insights, categorized sections for market sentiment, major events, and relevant company news, with enough detail to inform strategic decision-making.\n",
       "- **Agent**: news_summarizer\n",
       "\n"
      ],
      "text/plain": [
       "<IPython.core.display.Markdown object>"
      ]
     },
     "metadata": {},
     "output_type": "display_data"
    }
   ],
   "source": [
    "display(Markdown(get_yaml_config_as_markdown(config_path, \"tasks\", inputs={\"ticker\": TICKER})))"
   ]
  },
  {
   "cell_type": "markdown",
   "metadata": {},
   "source": [
    "## Benzinga News Fetcher\n",
    "\n",
    "We demonstrate the news fetcher here to get the news from Benzinga via the Alpaca News API.\n",
    "If the news already have been stored locally, then the local storage will be used."
   ]
  },
  {
   "cell_type": "code",
   "execution_count": null,
   "metadata": {},
   "outputs": [
    {
     "data": {
      "text/markdown": [
       "Number of news articles: 19"
      ],
      "text/plain": [
       "<IPython.core.display.Markdown object>"
      ]
     },
     "metadata": {},
     "output_type": "display_data"
    },
    {
     "data": {
      "text/markdown": [
       "First publish date: 2024-11-06 Max publish date: 2024-11-09"
      ],
      "text/plain": [
       "<IPython.core.display.Markdown object>"
      ]
     },
     "metadata": {},
     "output_type": "display_data"
    }
   ],
   "source": [
    "import pandas as pd\n",
    "\n",
    "from finmas.data.news.benzinga_news import BenzingaNewsFetcher\n",
    "from finmas.utils.common import to_datetime\n",
    "\n",
    "news_fetcher = BenzingaNewsFetcher()\n",
    "\n",
    "news_records = news_fetcher.get_news(\n",
    "    ticker=TICKER,\n",
    "    start=to_datetime(NEWS_START_DATE),\n",
    "    end=to_datetime(NEWS_END_DATE),\n",
    ")\n",
    "\n",
    "df = pd.DataFrame.from_records(news_records)\n",
    "df[\"published\"] = pd.to_datetime(df[\"published\"]).dt.strftime(\"%Y-%m-%d\")\n",
    "display(Markdown(f\"Number of news articles: {len(df)}\"))\n",
    "display(\n",
    "    Markdown(\n",
    "        f\"First publish date: {df['published'].min()} Max publish date: {df['published'].max()}\"\n",
    "    )\n",
    ")"
   ]
  },
  {
   "cell_type": "code",
   "execution_count": null,
   "metadata": {},
   "outputs": [
    {
     "data": {
      "text/html": [
       "<div>\n",
       "<style scoped>\n",
       "    .dataframe tbody tr th:only-of-type {\n",
       "        vertical-align: middle;\n",
       "    }\n",
       "\n",
       "    .dataframe tbody tr th {\n",
       "        vertical-align: top;\n",
       "    }\n",
       "\n",
       "    .dataframe thead th {\n",
       "        text-align: right;\n",
       "    }\n",
       "</style>\n",
       "<table border=\"1\" class=\"dataframe\">\n",
       "  <thead>\n",
       "    <tr style=\"text-align: right;\">\n",
       "      <th></th>\n",
       "      <th>title</th>\n",
       "      <th>published</th>\n",
       "      <th>author</th>\n",
       "      <th>num_symbols</th>\n",
       "    </tr>\n",
       "  </thead>\n",
       "  <tbody>\n",
       "    <tr>\n",
       "      <th>0</th>\n",
       "      <td>As Tesla Market Capitalization Soars Past $1 T...</td>\n",
       "      <td>2024-11-09</td>\n",
       "      <td>Ananya Gairola</td>\n",
       "      <td>1</td>\n",
       "    </tr>\n",
       "    <tr>\n",
       "      <th>1</th>\n",
       "      <td>Elon Musk To Ditch Tesla Gigafactory In Mexico...</td>\n",
       "      <td>2024-11-08</td>\n",
       "      <td>Chris Katje</td>\n",
       "      <td>1</td>\n",
       "    </tr>\n",
       "    <tr>\n",
       "      <th>2</th>\n",
       "      <td>Trump's Win Sends Wall Street To Record Highs;...</td>\n",
       "      <td>2024-11-08</td>\n",
       "      <td>Piero Cingari</td>\n",
       "      <td>4</td>\n",
       "    </tr>\n",
       "    <tr>\n",
       "      <th>3</th>\n",
       "      <td>Tesla's China Sales Plunge to 6-Month Low In O...</td>\n",
       "      <td>2024-11-08</td>\n",
       "      <td>Nabaparna Bhattacharya</td>\n",
       "      <td>1</td>\n",
       "    </tr>\n",
       "    <tr>\n",
       "      <th>4</th>\n",
       "      <td>Tesla Opens Cybertruck Lease Option For As Low...</td>\n",
       "      <td>2024-11-08</td>\n",
       "      <td>Anan Ashraf</td>\n",
       "      <td>1</td>\n",
       "    </tr>\n",
       "    <tr>\n",
       "      <th>5</th>\n",
       "      <td>Rivian Vs Tesla: How The EV Rivals Stack Up In...</td>\n",
       "      <td>2024-11-08</td>\n",
       "      <td>Kaustubh Bagalkote</td>\n",
       "      <td>3</td>\n",
       "    </tr>\n",
       "    <tr>\n",
       "      <th>6</th>\n",
       "      <td>Elon Musk Reveals Toughest Part Of Building Te...</td>\n",
       "      <td>2024-11-08</td>\n",
       "      <td>Anan Ashraf</td>\n",
       "      <td>1</td>\n",
       "    </tr>\n",
       "    <tr>\n",
       "      <th>7</th>\n",
       "      <td>Rivian, Draftkings, Block, Pinterest, And Tesl...</td>\n",
       "      <td>2024-11-08</td>\n",
       "      <td>Benzinga Neuro</td>\n",
       "      <td>5</td>\n",
       "    </tr>\n",
       "    <tr>\n",
       "      <th>8</th>\n",
       "      <td>Elon Musk Shines In 'Trump Sweepstakes:' A Big...</td>\n",
       "      <td>2024-11-08</td>\n",
       "      <td>Kaustubh Bagalkote</td>\n",
       "      <td>1</td>\n",
       "    </tr>\n",
       "    <tr>\n",
       "      <th>9</th>\n",
       "      <td>3 Stocks Set For Major Upside From Inflation R...</td>\n",
       "      <td>2024-11-07</td>\n",
       "      <td>Stjepan Kalinic</td>\n",
       "      <td>4</td>\n",
       "    </tr>\n",
       "    <tr>\n",
       "      <th>10</th>\n",
       "      <td>SolarEdge Q3 Results Miss Expectations; Analys...</td>\n",
       "      <td>2024-11-07</td>\n",
       "      <td>Nabaparna Bhattacharya</td>\n",
       "      <td>2</td>\n",
       "    </tr>\n",
       "    <tr>\n",
       "      <th>11</th>\n",
       "      <td>Lucid Opens Orders for New Gravity SUV, Taking...</td>\n",
       "      <td>2024-11-07</td>\n",
       "      <td>Anusuya Lahiri</td>\n",
       "      <td>2</td>\n",
       "    </tr>\n",
       "    <tr>\n",
       "      <th>12</th>\n",
       "      <td>Elon Musk's Net Worth Soars By $26.5 Billion I...</td>\n",
       "      <td>2024-11-07</td>\n",
       "      <td>Piero Cingari</td>\n",
       "      <td>1</td>\n",
       "    </tr>\n",
       "    <tr>\n",
       "      <th>13</th>\n",
       "      <td>Jim Cramer Calls Trump's Return To White House...</td>\n",
       "      <td>2024-11-07</td>\n",
       "      <td>Pooja Rajkumari</td>\n",
       "      <td>5</td>\n",
       "    </tr>\n",
       "    <tr>\n",
       "      <th>14</th>\n",
       "      <td>Lyft Teams Up With Intel's Mobileye, May Mobil...</td>\n",
       "      <td>2024-11-07</td>\n",
       "      <td>Anan Ashraf</td>\n",
       "      <td>3</td>\n",
       "    </tr>\n",
       "    <tr>\n",
       "      <th>15</th>\n",
       "      <td>Arm Holdings, Coinbase, Lyft, Ionq, And Tesla:...</td>\n",
       "      <td>2024-11-07</td>\n",
       "      <td>Benzinga Neuro</td>\n",
       "      <td>5</td>\n",
       "    </tr>\n",
       "    <tr>\n",
       "      <th>16</th>\n",
       "      <td>Which Musk Company Will Propel Dogecoin's Futu...</td>\n",
       "      <td>2024-11-06</td>\n",
       "      <td>Chris Katje</td>\n",
       "      <td>2</td>\n",
       "    </tr>\n",
       "    <tr>\n",
       "      <th>17</th>\n",
       "      <td>Rivian, Lucid Stocks Sink After Trump Win: Wha...</td>\n",
       "      <td>2024-11-06</td>\n",
       "      <td>Erica Kollmann</td>\n",
       "      <td>3</td>\n",
       "    </tr>\n",
       "    <tr>\n",
       "      <th>18</th>\n",
       "      <td>What Does Trump's Victory Mean For EV Giant Te...</td>\n",
       "      <td>2024-11-06</td>\n",
       "      <td>Erica Kollmann</td>\n",
       "      <td>4</td>\n",
       "    </tr>\n",
       "  </tbody>\n",
       "</table>\n",
       "</div>"
      ],
      "text/plain": [
       "                                                title   published  \\\n",
       "0   As Tesla Market Capitalization Soars Past $1 T...  2024-11-09   \n",
       "1   Elon Musk To Ditch Tesla Gigafactory In Mexico...  2024-11-08   \n",
       "2   Trump's Win Sends Wall Street To Record Highs;...  2024-11-08   \n",
       "3   Tesla's China Sales Plunge to 6-Month Low In O...  2024-11-08   \n",
       "4   Tesla Opens Cybertruck Lease Option For As Low...  2024-11-08   \n",
       "5   Rivian Vs Tesla: How The EV Rivals Stack Up In...  2024-11-08   \n",
       "6   Elon Musk Reveals Toughest Part Of Building Te...  2024-11-08   \n",
       "7   Rivian, Draftkings, Block, Pinterest, And Tesl...  2024-11-08   \n",
       "8   Elon Musk Shines In 'Trump Sweepstakes:' A Big...  2024-11-08   \n",
       "9   3 Stocks Set For Major Upside From Inflation R...  2024-11-07   \n",
       "10  SolarEdge Q3 Results Miss Expectations; Analys...  2024-11-07   \n",
       "11  Lucid Opens Orders for New Gravity SUV, Taking...  2024-11-07   \n",
       "12  Elon Musk's Net Worth Soars By $26.5 Billion I...  2024-11-07   \n",
       "13  Jim Cramer Calls Trump's Return To White House...  2024-11-07   \n",
       "14  Lyft Teams Up With Intel's Mobileye, May Mobil...  2024-11-07   \n",
       "15  Arm Holdings, Coinbase, Lyft, Ionq, And Tesla:...  2024-11-07   \n",
       "16  Which Musk Company Will Propel Dogecoin's Futu...  2024-11-06   \n",
       "17  Rivian, Lucid Stocks Sink After Trump Win: Wha...  2024-11-06   \n",
       "18  What Does Trump's Victory Mean For EV Giant Te...  2024-11-06   \n",
       "\n",
       "                    author  num_symbols  \n",
       "0           Ananya Gairola            1  \n",
       "1              Chris Katje            1  \n",
       "2            Piero Cingari            4  \n",
       "3   Nabaparna Bhattacharya            1  \n",
       "4              Anan Ashraf            1  \n",
       "5       Kaustubh Bagalkote            3  \n",
       "6              Anan Ashraf            1  \n",
       "7           Benzinga Neuro            5  \n",
       "8       Kaustubh Bagalkote            1  \n",
       "9          Stjepan Kalinic            4  \n",
       "10  Nabaparna Bhattacharya            2  \n",
       "11          Anusuya Lahiri            2  \n",
       "12           Piero Cingari            1  \n",
       "13         Pooja Rajkumari            5  \n",
       "14             Anan Ashraf            3  \n",
       "15          Benzinga Neuro            5  \n",
       "16             Chris Katje            2  \n",
       "17          Erica Kollmann            3  \n",
       "18          Erica Kollmann            4  "
      ]
     },
     "metadata": {},
     "output_type": "display_data"
    }
   ],
   "source": [
    "display(df[[\"title\", \"published\", \"author\", \"num_symbols\"]])"
   ]
  },
  {
   "cell_type": "markdown",
   "metadata": {},
   "source": [
    "## Create Crew\n",
    "\n",
    "This section creates the crew with the configuration of agents and tasks defined above.\n",
    "The crew will use the News Records shown above to summarize and comment on the sentiment of the news."
   ]
  },
  {
   "cell_type": "code",
   "execution_count": null,
   "metadata": {},
   "outputs": [],
   "source": [
    "# %%capture\n",
    "start = time.time()\n",
    "crew = NewsAnalysisCrew(\n",
    "    ticker=TICKER,\n",
    "    records=news_records,\n",
    "    llm_provider=LLM_PROVIDER,\n",
    "    llm_model=LLM_MODEL,\n",
    "    temperature=LLM_TEMPERATURE,\n",
    "    max_tokens=LLM_MAX_TOKENS,\n",
    "    embedding_model=EMBEDDING_MODEL,\n",
    "    similarity_top_k=SIMILARITY_TOP_K,\n",
    "    news_source=\"Benzinga\",\n",
    "    news_start=NEWS_START_DATE,\n",
    "    news_end=NEWS_END_DATE,\n",
    ")"
   ]
  },
  {
   "cell_type": "code",
   "execution_count": null,
   "metadata": {},
   "outputs": [
    {
     "data": {
      "text/markdown": [
       "Index Creation Metrics:  \n",
       "Embedding Model: text-embedding-3-small  \n",
       "Time spent: 1s  \n",
       "Number of nodes: 19  \n",
       "Text length: 52788  \n",
       "Chunk size: 1024 tokens  \n",
       "Chunk overlap: 200 tokens  \n",
       "Total embedding token count: 12413  \n",
       "Estimated embedding model cost for total tokens: $0.00024826  \n",
       "\n",
       "\n"
      ],
      "text/plain": [
       "<IPython.core.display.Markdown object>"
      ]
     },
     "metadata": {},
     "output_type": "display_data"
    }
   ],
   "source": [
    "from finmas.crews.utils import get_index_creation_metrics\n",
    "\n",
    "index_creation_metrics_message = get_index_creation_metrics(crew)\n",
    "display(Markdown(index_creation_metrics_message))"
   ]
  },
  {
   "cell_type": "markdown",
   "metadata": {},
   "source": [
    "## Run the analysis"
   ]
  },
  {
   "cell_type": "code",
   "execution_count": null,
   "metadata": {},
   "outputs": [],
   "source": [
    "%%capture\n",
    "inputs = {\"ticker\": TICKER}  # \"form\": filing.form}\n",
    "output = crew.crew().kickoff(inputs=inputs)\n",
    "time_spent = time.time() - start\n",
    "display(f\"Time spent: {format_time_spent(time_spent)}\")"
   ]
  },
  {
   "cell_type": "markdown",
   "metadata": {},
   "source": [
    "## Save the results"
   ]
  },
  {
   "cell_type": "code",
   "execution_count": null,
   "metadata": {},
   "outputs": [
    {
     "data": {
      "text/plain": [
       "'Output saved to: output/news/TSLA_news_analysis_20241118_151656.md'"
      ]
     },
     "metadata": {},
     "output_type": "display_data"
    }
   ],
   "source": [
    "crew_run_metrics = CrewRunMetrics(\n",
    "    config=crew.config, token_usage=output.token_usage, time_spent=time_spent\n",
    ")\n",
    "file_path = save_crew_output(crew_run_metrics, output.raw, index_creation_metrics_message)\n",
    "display(f\"Output saved to: {file_path}\")"
   ]
  },
  {
   "cell_type": "markdown",
   "metadata": {},
   "source": [
    "## Display the results"
   ]
  },
  {
   "cell_type": "code",
   "execution_count": null,
   "metadata": {},
   "outputs": [
    {
     "data": {
      "text/markdown": [
       "# Crew Output\n",
       "\n",
       "**Tesla (TSLA) Recent News Summary Report**\n",
       "\n",
       "**Introduction:**  \n",
       "This report aims to synthesize recent news articles concerning Tesla, Inc. (TSLA) to identify key events that could significantly impact the company's financial performance and public perception. The analysis focuses on various themes, including financial results, product innovations, regulatory changes, market competition, and strategic partnerships.\n",
       "\n",
       "**Key Insights Section:**\n",
       "\n",
       "**Market Sentiment Overview:**  \n",
       "- **Overall Sentiment Score**: 0.6 (on a scale of -1 to 1)  \n",
       "- **Overall Tone**: Positive  \n",
       "The sentiment analysis indicates a predominantly positive outlook for Tesla, driven by a surge in stock prices and market capitalization. However, concerns regarding declining sales in China temper this optimism.\n",
       "\n",
       "**Major Events Summary:**\n",
       "1. **Market Capitalization Surge**:  \n",
       "   Tesla's market capitalization has surpassed $1 trillion, largely due to a rally in stock prices following political developments, particularly CEO Elon Musk's support for President-elect Donald Trump. Analysts believe this could create favorable conditions for Tesla's growth.  \n",
       "   - Source: [MarketWatch, November 2023]\n",
       "\n",
       "2. **Stock Performance Post-Election**:  \n",
       "   Following Trump's election victory, Tesla's stock rose nearly 29% within a week, boosting the company's market value and elevating Musk's personal wealth beyond $300 billion.  \n",
       "   - Source: [CNBC, November 2023]\n",
       "\n",
       "3. **Sales Decline in China**:  \n",
       "   Despite the positive market sentiment, Tesla's sales in China have declined, with October marking the weakest month for sales since April. However, year-to-date sales figures still reflect an increase compared to the previous year.  \n",
       "   - Source: [Reuters, November 2023]\n",
       "\n",
       "4. **Analyst Predictions on Autonomous Driving**:  \n",
       "   Analysts, including Dan Ives, express optimism that Trump's presidency could accelerate Tesla's autonomous driving initiatives, potentially unlocking significant long-term value for the company.  \n",
       "   - Source: [Bloomberg, November 2023]\n",
       "\n",
       "**Compendium of Relevant News:**\n",
       "- **Positive Sentiment Articles**:  \n",
       "   - \"Tesla's stock surges post-election rally\": TSLA shares rose over 14% following Trump's victory, with analysts raising price forecasts and maintaining a Buy rating.  \n",
       "   - \"Tesla crosses $1 trillion market cap\": The company's market capitalization surpassed $1 trillion, driven by optimism about growth in the autonomous vehicle sector.\n",
       "\n",
       "- **Negative Sentiment Articles**:  \n",
       "   - \"Tesla's sales in China fall to six-month low\": October sales in China dropped to 68,280 vehicles, raising concerns about market performance in a key region.\n",
       "\n",
       "- **Neutral Sentiment Articles**:  \n",
       "   - \"Tesla introduces leasing options for Cybertruck\": Tesla offers leasing for the Cybertruck at $999 per month, presenting factual information without strong opinions.\n",
       "\n",
       "**Conclusion:**  \n",
       "In summary, Tesla is currently navigating a landscape of mixed developments. The significant increase in market capitalization and stock performance is encouraging, reflecting strong investor confidence. However, challenges in the Chinese market, evidenced by declining sales, could impact the company's growth trajectory. The potential acceleration of autonomous driving initiatives presents new opportunities but also comes with regulatory scrutiny and competition. Continuous monitoring of these events will be essential for understanding their long-term implications for Tesla, Inc. Stakeholders should remain vigilant regarding the interplay between positive market sentiment and the challenges posed by international sales performance.\n",
       "\n",
       "## Crew Run Metrics\n",
       "\n",
       "Total tokens: 9667 Prompt tokens: 6603  \n",
       "Successful Requests: 7  \n",
       "Estimated LLM Model cost for total tokens: $0.00282885  \n",
       "\n",
       "Time spent: 1m 8s\n",
       "\n",
       "## Inputs\n",
       "\n",
       "News Source: Benzinga\n",
       "Date range: 2024-10-15 - 2024-11-10\n",
       "## Configuration\n",
       "\n",
       "Crew Name: news  \n",
       "Ticker: TSLA  \n",
       "LLM: openai / gpt-4o-mini  \n",
       "Temperature: 0.0 Max tokens: 1024  \n",
       "Agent Configuration:  \n",
       "Max iterations: 10 Max requests per minute: 30  \n",
       "Embedding Model: text-embedding-3-small similarity_top_k: 3  \n",
       "\n",
       "## Agents\n",
       "\n",
       "### News Analyzer\n",
       "\n",
       "- **Role**: Financial News Analyst\n",
       "- **Goal**: Extract and analyze key information from individual news items to provide a deep understanding of events impacting the company {ticker}.\n",
       "- **Backstory**: You are an experienced financial news analyst with a strong focus on identifying key events and interpreting their implications for a company's financial performance and market standing.\n",
       "\n",
       "### Sentiment Analyzer\n",
       "\n",
       "- **Role**: Financial Sentiment Expert\n",
       "- **Goal**: Assess the sentiment of news articles to determine public perception and potential market impacts for {ticker}.\n",
       "- **Backstory**: You are a specialist in sentiment analysis, with deep knowledge of financial markets and an ability to evaluate how media sentiment can influence investor behavior and company reputation.\n",
       "\n",
       "### News Summarizer\n",
       "\n",
       "- **Role**: Financial News Summarizer\n",
       "- **Goal**: Synthesize analyzed data and generate a coherent and insightful summary of news events, market sentiment, and key company updates for {ticker}.\n",
       "- **Backstory**: You are a skilled financial journalist with expertise in summarizing complex financial news into accessible, concise reports that assist stakeholders in making informed decisions.\n",
       "## Tasks\n",
       "\n",
       "### News Analyzer Task\n",
       "\n",
       "- **Description**: Analyze recent news articles about the company {ticker} and provide a detailed report highlighting the most impactful events and notable news stories. Focus on events that could significantly affect the company's financial standing or public perception.\n",
       "- **Expected Output**: A comprehensive news analysis report including key events, impactful news stories, and an assessment of their potential implications for the company.\n",
       "- **Agent**: news_analyzer\n",
       "\n",
       "### Sentiment Analysis Task\n",
       "\n",
       "- **Description**: Conduct a sentiment analysis on the news articles related to {ticker}, determining the overall tone and public perception of the company. Include insights into whether the sentiment is positive, negative, or neutral, and explain the reasons behind this sentiment.\n",
       "- **Expected Output**: A detailed sentiment analysis report that provides an overall sentiment score, categorizes each article by tone, and discusses the potential effects of the sentiment on the company's market position.\n",
       "- **Agent**: sentiment_analyzer\n",
       "\n",
       "### News Summary Task\n",
       "\n",
       "- **Description**: Summarize the key insights from the news articles for {ticker}, providing an overview of important events, market sentiment, and significant company news. The summary should present a holistic view of the news landscape for the company, highlighting both the qualitative and quantitative aspects.\n",
       "- **Expected Output**: A clear and concise news summary report that includes key insights, categorized sections for market sentiment, major events, and relevant company news, with enough detail to inform strategic decision-making.\n",
       "- **Agent**: news_summarizer\n",
       "\n",
       "\n",
       "\n",
       "Index Creation Metrics:  \n",
       "Embedding Model: text-embedding-3-small  \n",
       "Time spent: 1s  \n",
       "Number of nodes: 19  \n",
       "Text length: 52788  \n",
       "Chunk size: 1024 tokens  \n",
       "Chunk overlap: 200 tokens  \n",
       "Total embedding token count: 12413  \n",
       "Estimated embedding model cost for total tokens: $0.00024826  \n",
       "\n",
       "\n"
      ],
      "text/plain": [
       "<IPython.core.display.Markdown object>"
      ]
     },
     "metadata": {},
     "output_type": "display_data"
    }
   ],
   "source": [
    "crew_output = file_path.read_text(encoding=\"utf-8\")\n",
    "display(Markdown(crew_output))"
   ]
  }
 ],
 "metadata": {
  "kernelspec": {
   "display_name": ".venv",
   "language": "python",
   "name": "python3"
  },
  "language_info": {
   "codemirror_mode": {
    "name": "ipython",
    "version": 3
   },
   "file_extension": ".py",
   "mimetype": "text/x-python",
   "name": "python",
   "nbconvert_exporter": "python",
   "pygments_lexer": "ipython3",
   "version": "3.11.9"
  }
 },
 "nbformat": 4,
 "nbformat_minor": 4
}

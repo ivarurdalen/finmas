{
 "cells": [
  {
   "cell_type": "markdown",
   "metadata": {},
   "source": [
    "# Combined Analysis by FinMAS\n",
    "\n",
    "This notebook can be used to run an analysis by SEC filing crew instead of using the UI / panel app."
   ]
  },
  {
   "cell_type": "code",
   "execution_count": null,
   "metadata": {},
   "outputs": [],
   "source": [
    "# Convenience function to change the working directory to the root of the project if necessary\n",
    "import os\n",
    "from pathlib import Path\n",
    "\n",
    "if not Path(\"finmas\").exists():\n",
    "    os.chdir(\"..\")\n",
    "# print(f\"Current working directory: {Path.cwd()}\")"
   ]
  },
  {
   "cell_type": "code",
   "execution_count": null,
   "metadata": {},
   "outputs": [],
   "source": [
    "%%capture\n",
    "import time\n",
    "\n",
    "from edgar import Company\n",
    "from IPython.display import Markdown, display\n",
    "\n",
    "from finmas.constants import defaults\n",
    "from finmas.crews import CombinedCrew\n",
    "from finmas.crews.utils import CrewRunMetrics, get_yaml_config_as_markdown, save_crew_output\n",
    "from finmas.utils.common import format_time_spent"
   ]
  },
  {
   "cell_type": "markdown",
   "metadata": {},
   "source": [
    "To be able to run this notebook make sure the necessary API_KEY for the LLM is set in the `.env` file\n",
    "or set in the environment variables manually\n",
    "\n",
    "| provider | API_KEY |\n",
    "| --- | --- |\n",
    "| groq | GROQ_API_KEY |\n",
    "| openai | OPENAI_API_KEY |"
   ]
  },
  {
   "cell_type": "markdown",
   "metadata": {},
   "source": [
    "## Configuration\n",
    "\n",
    "List of Groq models: https://console.groq.com/settings/limits"
   ]
  },
  {
   "cell_type": "code",
   "execution_count": null,
   "metadata": {},
   "outputs": [],
   "source": [
    "TICKER = \"NVDA\"\n",
    "FILING_FORM = \"10-K\"\n",
    "NEWS_START_DATE = defaults[\"news_start_date\"]\n",
    "NEWS_END_DATE = defaults[\"news_end_date\"]\n",
    "PRICE_END_DATE = defaults[\"price_end_date\"]\n",
    "\n",
    "# LLM_PROVIDER = \"groq\"\n",
    "# LLM_MODEL = \"llama3-8b-8192\"\n",
    "# EMBEDDING_MODEL = \"BAAI/bge-small-en-v1.5\"\n",
    "\n",
    "LLM_PROVIDER = \"openai\"\n",
    "# LLM_MODEL = \"gpt-4o\"\n",
    "LLM_MODEL = \"gpt-4o-mini\"\n",
    "EMBEDDING_MODEL = \"text-embedding-3-small\"\n",
    "\n",
    "SIMILARITY_TOP_K = 3\n",
    "# LLM configuration\n",
    "LLM_TEMPERATURE = 0.0\n",
    "LLM_MAX_TOKENS = 1024\n",
    "\n",
    "CREW_NAME = \"combined\"\n",
    "\n",
    "inputs = {\"ticker\": TICKER, \"form\": FILING_FORM}"
   ]
  },
  {
   "cell_type": "markdown",
   "metadata": {},
   "source": [
    "## Crew Configuration"
   ]
  },
  {
   "cell_type": "code",
   "execution_count": null,
   "metadata": {},
   "outputs": [],
   "source": [
    "config_path = Path.cwd() / f\"finmas/crews/{CREW_NAME}/config\""
   ]
  },
  {
   "cell_type": "markdown",
   "metadata": {},
   "source": [
    "### Agents"
   ]
  },
  {
   "cell_type": "code",
   "execution_count": null,
   "metadata": {},
   "outputs": [
    {
     "data": {
      "text/markdown": [
       "### News Analyst\n",
       "\n",
       "- **Role**: Financial News Analyst\n",
       "- **Goal**: Extract and analyze key information from individual news items to provide a deep understanding of events impacting the company NVDA.\n",
       "- **Backstory**: You are an experienced financial news analyst with a strong focus on identifying key events and interpreting their implications for a company's financial performance and market standing.\n",
       "\n",
       "### SEC Filing Analyst\n",
       "\n",
       "- **Role**: SEC Filing Management's Discussion and Analysis Section Analyst\n",
       "- **Goal**: Analyze NVDA's 10-K SEC filing to extract information from the Management's Discussion and Analysis section.\n",
       "- **Backstory**: You are an expert in analyzing the Management's Discussion and Analysis (MD&A) section of SEC filings. Your deep understanding of this section allows you to extract critical insights about a company's performance, strategic direction, and management's perspective on future risks and opportunities. Your expertise helps stakeholders gain a nuanced understanding of the company's operational and financial outlook.\n",
       "\n",
       "### Fundamental Analyst\n",
       "\n",
       "- **Role**: Fundamental Analyst\n",
       "- **Goal**: Analyze NVDA's fundamental data to evaluate the company's profitability and growth potential.\n",
       "- **Backstory**: You are an expert in fundamental analysis of stocks and have a strong understanding of key financial metrics such as revenue growth, earnings per share, and net profit margin.\n",
       "\n",
       "### Technical Analyst\n",
       "\n",
       "- **Role**: Technical Analyst\n",
       "- **Goal**: Analyze NVDA's historical price data to identify trends and patterns that can help predict future price movements.\n",
       "- **Backstory**: You are an expert in technical indicators for stock prices, and use them to analyze the trend, momentum and volatility of stocks.\n",
       "\n",
       "### Stock Advisor\n",
       "\n",
       "- **Role**: Stock Advisor\n",
       "- **Goal**: Provide investment recommendations to whether buy, sell, or hold NVDA based on news, information from SEC filing, fundamental market data and technical analysis.\n",
       "- **Backstory**: You are a world class stock picker and provide advice to clients based on a comprehensive analysis of news, SEC filings, fundamental data, and technical indicators.\n",
       "\n"
      ],
      "text/plain": [
       "<IPython.core.display.Markdown object>"
      ]
     },
     "metadata": {},
     "output_type": "display_data"
    }
   ],
   "source": [
    "display(Markdown(get_yaml_config_as_markdown(config_path, \"agents\", inputs=inputs)))"
   ]
  },
  {
   "cell_type": "markdown",
   "metadata": {},
   "source": [
    "### Tasks Definition"
   ]
  },
  {
   "cell_type": "code",
   "execution_count": null,
   "metadata": {},
   "outputs": [
    {
     "data": {
      "text/markdown": [
       "### News Analysis\n",
       "\n",
       "- **Description**: Analyze the latest news articles related to NVDA to understand the current market sentiment and potential impact on the stock price. Use the provided tool to analyze the news sentiment, key topics, and the overall market sentiment towards the company. Use the latest news data available to analyze the impact on the stock price.\n",
       "- **Expected Output**: The final answer should be a summary of the market sentiment towards the company based on the latest news articles. Highlight key topics and sentiments that could impact the stock price in the short term.\n",
       "- **Agent**: news_analyst\n",
       "\n",
       "### SEC Filing Analysis\n",
       "\n",
       "- **Description**: Analyze the 10-K SEC filing for the stock ticker NVDA by using your assigned tool. Focus on the section Management's Discussion and analysis. Extract information about the growth in key market segments, and forward-looking statements from management. Include information about any key products and forward-looking statements from management.\n",
       "- **Expected Output**: The final answer should be a report that includes information about market segments, management discussion, and forward-looking statements from management.\n",
       "- **Agent**: sec_filing_analyst\n",
       "\n",
       "### Fundamental Analysis\n",
       "\n",
       "- **Description**: Analyze NVDA's fundamental data to evaluate the company's profitability and growth potential. Use the provided tool to analyze total revenue, net income, earnings per share, net profit margin, and possibly other key financial metrics. Use available Trailing Twelve Months (TTM) data in your analysis if necessary.\n",
       "- **Expected Output**: The final answer should be a summary of the company's financial health and growth prospects based on the data available.\n",
       "- **Agent**: fundamental_analyst\n",
       "\n",
       "### Technical Analysis\n",
       "\n",
       "- **Description**: Analyze NVDA's historical price data to predict future price movements. Use the provided tool to analyze price trends, momentum, and volatility. For momentum use the RSI indicator, and for volatility use the Bollinger Bands percentage indicator. Use the available historical price data in the tool to analyze the stock's price movements.\n",
       "- **Expected Output**: The final answer should be a summary of the company's price trends and potential future price movements based on the data available.\n",
       "- **Agent**: technical_analyst\n",
       "\n",
       "### Stock Advisor Task\n",
       "\n",
       "- **Description**: Analyze NVDA's fundamental and technical data to provide a recommendation on whether to buy, sell, or hold the stock. Use the information from SEC Filing and News analysis to provide a comprehensive view of the stock's investment potential.\n",
       "- **Expected Output**: The final answer should be a recommendation (buy, sell, or hold) based on the analysis of the company's profitability, historical fundamental data and technical indicators. The recommendation should be supported by the data available, and should be clear and concise. Highlight the latest fundamental data, technical data, news information, and SEC filing information that support your recommendation.\n",
       "- **Agent**: stock_advisor\n",
       "\n"
      ],
      "text/plain": [
       "<IPython.core.display.Markdown object>"
      ]
     },
     "metadata": {},
     "output_type": "display_data"
    }
   ],
   "source": [
    "display(Markdown(get_yaml_config_as_markdown(config_path, \"tasks\", inputs=inputs)))"
   ]
  },
  {
   "cell_type": "markdown",
   "metadata": {},
   "source": [
    "## Benzinga News Fetcher\n",
    "\n",
    "We demonstrate the news fetcher here to get the news from Benzinga via the Alpaca News API.\n",
    "If the news already have been stored locally, then the local storage will be used."
   ]
  },
  {
   "cell_type": "code",
   "execution_count": null,
   "metadata": {},
   "outputs": [
    {
     "data": {
      "text/markdown": [
       "Number of news articles: 90"
      ],
      "text/plain": [
       "<IPython.core.display.Markdown object>"
      ]
     },
     "metadata": {},
     "output_type": "display_data"
    },
    {
     "data": {
      "text/markdown": [
       "First publish date: 2024-10-15 Max publish date: 2024-11-09"
      ],
      "text/plain": [
       "<IPython.core.display.Markdown object>"
      ]
     },
     "metadata": {},
     "output_type": "display_data"
    }
   ],
   "source": [
    "import pandas as pd\n",
    "\n",
    "from finmas.data.news.benzinga_news import BenzingaNewsFetcher\n",
    "from finmas.utils.common import to_datetime\n",
    "\n",
    "news_fetcher = BenzingaNewsFetcher()\n",
    "\n",
    "news_records = news_fetcher.get_news(\n",
    "    ticker=TICKER,\n",
    "    start=to_datetime(NEWS_START_DATE),\n",
    "    end=to_datetime(NEWS_END_DATE),\n",
    ")\n",
    "\n",
    "df = pd.DataFrame.from_records(news_records)\n",
    "df[\"published\"] = pd.to_datetime(df[\"published\"]).dt.strftime(\"%Y-%m-%d\")\n",
    "display(Markdown(f\"Number of news articles: {len(df)}\"))\n",
    "display(\n",
    "    Markdown(\n",
    "        f\"First publish date: {df['published'].min()} Max publish date: {df['published'].max()}\"\n",
    "    )\n",
    ")"
   ]
  },
  {
   "cell_type": "code",
   "execution_count": null,
   "metadata": {},
   "outputs": [
    {
     "data": {
      "text/html": [
       "<div>\n",
       "<style scoped>\n",
       "    .dataframe tbody tr th:only-of-type {\n",
       "        vertical-align: middle;\n",
       "    }\n",
       "\n",
       "    .dataframe tbody tr th {\n",
       "        vertical-align: top;\n",
       "    }\n",
       "\n",
       "    .dataframe thead th {\n",
       "        text-align: right;\n",
       "    }\n",
       "</style>\n",
       "<table border=\"1\" class=\"dataframe\">\n",
       "  <thead>\n",
       "    <tr style=\"text-align: right;\">\n",
       "      <th></th>\n",
       "      <th>title</th>\n",
       "      <th>published</th>\n",
       "      <th>author</th>\n",
       "      <th>num_symbols</th>\n",
       "    </tr>\n",
       "  </thead>\n",
       "  <tbody>\n",
       "    <tr>\n",
       "      <th>0</th>\n",
       "      <td>Qualcomm Delivers Upbeat Results That Show Its...</td>\n",
       "      <td>2024-11-09</td>\n",
       "      <td>Upwallstreet</td>\n",
       "      <td>5</td>\n",
       "    </tr>\n",
       "    <tr>\n",
       "      <th>1</th>\n",
       "      <td>Nvidia Taps Former NASA Astronaut To Enhance B...</td>\n",
       "      <td>2024-11-08</td>\n",
       "      <td>Anusuya Lahiri</td>\n",
       "      <td>3</td>\n",
       "    </tr>\n",
       "    <tr>\n",
       "      <th>2</th>\n",
       "      <td>In-Depth Analysis: NVIDIA Versus Competitors I...</td>\n",
       "      <td>2024-11-08</td>\n",
       "      <td>Benzinga Insights</td>\n",
       "      <td>1</td>\n",
       "    </tr>\n",
       "    <tr>\n",
       "      <th>3</th>\n",
       "      <td>Taiwan Semiconductor US Expansion Plans Unfaze...</td>\n",
       "      <td>2024-11-08</td>\n",
       "      <td>Anusuya Lahiri</td>\n",
       "      <td>4</td>\n",
       "    </tr>\n",
       "    <tr>\n",
       "      <th>4</th>\n",
       "      <td>Nvidia's Chinese Rivals Gear Up For Trump's Re...</td>\n",
       "      <td>2024-11-08</td>\n",
       "      <td>Benzinga Neuro</td>\n",
       "      <td>5</td>\n",
       "    </tr>\n",
       "    <tr>\n",
       "      <th>...</th>\n",
       "      <td>...</td>\n",
       "      <td>...</td>\n",
       "      <td>...</td>\n",
       "      <td>...</td>\n",
       "    </tr>\n",
       "    <tr>\n",
       "      <th>85</th>\n",
       "      <td>Nvidia and Intel Competition Threaten AMD's Gr...</td>\n",
       "      <td>2024-10-15</td>\n",
       "      <td>Anusuya Lahiri</td>\n",
       "      <td>5</td>\n",
       "    </tr>\n",
       "    <tr>\n",
       "      <th>86</th>\n",
       "      <td>Amazon Strikes at Nvidia's Stronghold Through ...</td>\n",
       "      <td>2024-10-15</td>\n",
       "      <td>Anusuya Lahiri</td>\n",
       "      <td>5</td>\n",
       "    </tr>\n",
       "    <tr>\n",
       "      <th>87</th>\n",
       "      <td>Nvidia, PayPal, United Rentals And An Energy S...</td>\n",
       "      <td>2024-10-15</td>\n",
       "      <td>Avi Kapoor</td>\n",
       "      <td>4</td>\n",
       "    </tr>\n",
       "    <tr>\n",
       "      <th>88</th>\n",
       "      <td>Why Nvidia, AMD And Other Chipmakers Are Movin...</td>\n",
       "      <td>2024-10-15</td>\n",
       "      <td>Shanthi Rexaline</td>\n",
       "      <td>5</td>\n",
       "    </tr>\n",
       "    <tr>\n",
       "      <th>89</th>\n",
       "      <td>Nvidia, AMD Face Chip Export Curbs, As Biden A...</td>\n",
       "      <td>2024-10-15</td>\n",
       "      <td>Ananya Gairola</td>\n",
       "      <td>2</td>\n",
       "    </tr>\n",
       "  </tbody>\n",
       "</table>\n",
       "<p>90 rows × 4 columns</p>\n",
       "</div>"
      ],
      "text/plain": [
       "                                                title   published  \\\n",
       "0   Qualcomm Delivers Upbeat Results That Show Its...  2024-11-09   \n",
       "1   Nvidia Taps Former NASA Astronaut To Enhance B...  2024-11-08   \n",
       "2   In-Depth Analysis: NVIDIA Versus Competitors I...  2024-11-08   \n",
       "3   Taiwan Semiconductor US Expansion Plans Unfaze...  2024-11-08   \n",
       "4   Nvidia's Chinese Rivals Gear Up For Trump's Re...  2024-11-08   \n",
       "..                                                ...         ...   \n",
       "85  Nvidia and Intel Competition Threaten AMD's Gr...  2024-10-15   \n",
       "86  Amazon Strikes at Nvidia's Stronghold Through ...  2024-10-15   \n",
       "87  Nvidia, PayPal, United Rentals And An Energy S...  2024-10-15   \n",
       "88  Why Nvidia, AMD And Other Chipmakers Are Movin...  2024-10-15   \n",
       "89  Nvidia, AMD Face Chip Export Curbs, As Biden A...  2024-10-15   \n",
       "\n",
       "               author  num_symbols  \n",
       "0        Upwallstreet            5  \n",
       "1      Anusuya Lahiri            3  \n",
       "2   Benzinga Insights            1  \n",
       "3      Anusuya Lahiri            4  \n",
       "4      Benzinga Neuro            5  \n",
       "..                ...          ...  \n",
       "85     Anusuya Lahiri            5  \n",
       "86     Anusuya Lahiri            5  \n",
       "87         Avi Kapoor            4  \n",
       "88   Shanthi Rexaline            5  \n",
       "89     Ananya Gairola            2  \n",
       "\n",
       "[90 rows x 4 columns]"
      ]
     },
     "metadata": {},
     "output_type": "display_data"
    }
   ],
   "source": [
    "display(df[[\"title\", \"published\", \"author\", \"num_symbols\"]])"
   ]
  },
  {
   "cell_type": "markdown",
   "metadata": {},
   "source": [
    "## Get filing"
   ]
  },
  {
   "cell_type": "code",
   "execution_count": null,
   "metadata": {},
   "outputs": [
    {
     "data": {
      "text/html": [
       "<pre style=\"white-space:pre;overflow-x:auto;line-height:normal;font-family:Menlo,'DejaVu Sans Mono',consolas,'Courier New',monospace\"></pre>\n"
      ],
      "text/plain": []
     },
     "metadata": {},
     "output_type": "display_data"
    },
    {
     "data": {
      "text/plain": [
       "╭─────────────────────────────────────────\u001b[1m NVIDIA CORP [1045810] 10-K 📊 \u001b[0m─────────────────────────────────────────╮\n",
       "│ ╭──────────────────────┬────────────╮                                                                           │\n",
       "│ │\u001b[1;38;5;39m \u001b[0m\u001b[1;38;5;39m0001045810-24-000029\u001b[0m\u001b[1;38;5;39m \u001b[0m│ 2024-02-21 │                                                                           │\n",
       "│ ╰──────────────────────┴────────────╯                                                                           │\n",
       "│ ╭────────────────────────────────────────────────────────────────────────────────────────────╮                  │\n",
       "│ │\u001b[1m \u001b[0m\u001b[1mLinks\u001b[0m\u001b[1m: 🏠 Homepage 📄 Primary Document 📜 Full Submission Text                            \u001b[0m\u001b[1m \u001b[0m│                  │\n",
       "│ ├────────────────────────────────────────────────────────────────────────────────────────────┤                  │\n",
       "│ │ 🏠 https://sec.gov/Archives/edgar/data/1045810/0001045810-24-000029-index.html             │                  │\n",
       "│ │ 📄 https://sec.gov/Archives/edgar/data/1045810/000104581024000029/nvda-20240128.htm        │                  │\n",
       "│ │ 📜 https://sec.gov/Archives/edgar/data/1045810/000104581024000029/0001045810-24-000029.txt │                  │\n",
       "│ ╰────────────────────────────────────────────────────────────────────────────────────────────╯                  │\n",
       "╰───────────────────────────────── Form 10-K: Annual report for public companies ─────────────────────────────────╯"
      ]
     },
     "metadata": {},
     "output_type": "display_data"
    }
   ],
   "source": [
    "filing = Company(TICKER).get_filings(form=FILING_FORM).latest(1)\n",
    "display(filing)"
   ]
  },
  {
   "cell_type": "markdown",
   "metadata": {},
   "source": [
    "## Fundamentals Tool"
   ]
  },
  {
   "cell_type": "code",
   "execution_count": null,
   "metadata": {},
   "outputs": [
    {
     "data": {
      "text/markdown": [
       "## NVDA - Fundamentals\n",
       "\n",
       "The date of the latest quarter is: 2024-07-28\n",
       "\n",
       "This table shows some essential fundamental data for the given stock ticker over the last 8 quarters. TTM means Trailing Twelve Months.\n",
       "\n",
       "|       Date |   Total Revenue |     Net Income |   Net Profit Margin (%) |   Stock Price |   Basic Quarterly Earnings Per Share |   Debt to Equity |   Basic TTM Price to Earnings Ratio |   Price to Sales Ratio TTM |\n",
       "|------------|-----------------|----------------|-------------------------|---------------|--------------------------------------|------------------|-------------------------------------|----------------------------|\n",
       "| 2022-10-30 |   5,931,000,000 |    680,000,000 |                   11.47 |         13.82 |                                 0.27 |             0.90 |                                5.81 |                       1.20 |\n",
       "| 2023-01-29 |   6,051,000,000 |  1,414,000,000 |                   23.37 |         20.35 |                                 0.57 |             0.86 |                               11.59 |                       1.86 |\n",
       "| 2023-04-30 |   7,192,000,000 |  2,043,000,000 |                   28.41 |         27.74 |                                 0.83 |             0.81 |                               14.32 |                       2.65 |\n",
       "| 2023-07-30 |  13,507,000,000 |  6,188,000,000 |                   45.81 |         46.73 |                                 2.50 |             0.80 |                               11.19 |                       3.54 |\n",
       "| 2023-10-29 |  18,120,000,000 |  9,243,000,000 |                   51.01 |         40.49 |                                 3.75 |             0.63 |                                5.29 |                       2.23 |\n",
       "| 2024-01-28 |  22,103,000,000 | 12,285,000,000 |                   55.58 |         61.02 |                                 4.99 |             0.53 |                                5.06 |                       2.47 |\n",
       "| 2024-04-28 |  26,044,000,000 | 14,881,000,000 |                   57.14 |         87.72 |                                 6.04 |             0.57 |                                5.08 |                       2.71 |\n",
       "| 2024-07-28 |  30,040,000,000 | 16,599,000,000 |                   55.26 |        113.05 |                                 0.68 |             0.47 |                                7.32 |                      28.85 |\n",
       "\n",
       "### Year over Year Growth for Trailing Twelve Months\n",
       "\n",
       "This table shows the year over year growth rates and the trailing twelve months for total revenue, net income, net profit margin, and basic EPS for the given stock ticker over the last 8 quarters.\n",
       "\n",
       "|       Date |   Total Revenue TTM |   Total Revenue TTM YoY (%) |   Net Income TTM |   Net Income TTM YoY (%) |   Net Profit Margin TTM (%) |   Net Profit Margin TTM YoY (%) |   Basic TTM Earnings Per Share |   Basic TTM Earnings Per Share YoY (%) |\n",
       "|------------|---------------------|-----------------------------|------------------|--------------------------|-----------------------------|---------------------------------|--------------------------------|----------------------------------------|\n",
       "| 2022-10-30 |      28,566,000,000 |                       17.68 |    5,957,000,000 |                   -27.42 |                       20.85 |                          -38.32 |                           2.38 |                                 -67.68 |\n",
       "| 2023-01-29 |      26,974,000,000 |                        0.22 |    4,368,000,000 |                   -55.21 |                       16.19 |                          -55.31 |                           1.76 |                                 -71.75 |\n",
       "| 2023-04-30 |      25,878,000,000 |                      -12.40 |    4,793,000,000 |                   -49.33 |                       18.52 |                          -42.16 |                           1.94 |                                 -48.78 |\n",
       "| 2023-07-30 |      32,681,000,000 |                        9.90 |   10,325,000,000 |                    33.38 |                       31.59 |                           21.37 |                           4.18 |                                  35.04 |\n",
       "| 2023-10-29 |      44,870,000,000 |                       57.07 |   18,888,000,000 |                   217.07 |                       42.09 |                          101.86 |                           7.65 |                                 221.24 |\n",
       "| 2024-01-28 |      60,922,000,000 |                      125.85 |   29,759,000,000 |                   581.30 |                       48.85 |                          201.65 |                          12.06 |                                 586.87 |\n",
       "| 2024-04-28 |      79,774,000,000 |                      208.27 |   42,597,000,000 |                   788.73 |                       53.40 |                          188.30 |                          17.28 |                                 791.82 |\n",
       "| 2024-07-28 |      96,307,000,000 |                      194.69 |   53,008,000,000 |                   413.39 |                       55.04 |                           74.22 |                          15.45 |                                 269.93 |"
      ],
      "text/plain": [
       "<IPython.core.display.Markdown object>"
      ]
     },
     "metadata": {},
     "output_type": "display_data"
    }
   ],
   "source": [
    "from finmas.data.market.fundamentals import StockFundamentalsTool\n",
    "\n",
    "fundamentals_tool = StockFundamentalsTool()\n",
    "\n",
    "display(Markdown(fundamentals_tool.run(TICKER)))"
   ]
  },
  {
   "cell_type": "markdown",
   "metadata": {},
   "source": [
    "## Technical Analysis Tool\n",
    "\n",
    "The technical analysis tool extracts the price data from the defined end date using Yahoo Finance and resamples the data to a weekly timeframe.\\\n",
    "The technical indicators 20 week moving average, 50 week moving average are used for indicating the trend of the stock.\\\n",
    "The momentum indicator RSI14 and the volatility indicator Bollinger Band percentage are used\\\n",
    "to indicate the strength of the momentum and the volatility of the stock."
   ]
  },
  {
   "cell_type": "code",
   "execution_count": null,
   "metadata": {},
   "outputs": [
    {
     "data": {
      "text/markdown": [
       "## NVDA - Technical Indicators\n",
       "\n",
       "Date of the latest technical analysis data is: 2024-11-08\n",
       "\n",
       "This table shows some technical indicators for the given stock ticker over the last 8 weeks. SMA = Simple Moving Average represent the trend. RSI = Relative Strength Index and Bollinger Band represent the momentum.\n",
       "\n",
       "When RSI is above 70, the stock is considered overbought. When RSI is below 30, the stock is considered oversold.\n",
       "\n",
       "When the Bollinger Band Percentage is above 100, the stock is considered overbought. When the Bollinger Band Percentage is below 0, the stock is considered oversold.\n",
       "\n",
       "|       Date |   Close price |   SMA 50 week |   SMA 20 week |   SMA Trend |   RSI 14 |   Bollinger Band Percentage % |\n",
       "|------------|---------------|---------------|---------------|-------------|----------|-------------------------------|\n",
       "| 2024-09-20 |        116.00 |         85.09 |        115.52 |          Up |    55.16 |                         51.02 |\n",
       "| 2024-09-27 |        121.40 |         86.61 |        117.10 |          Up |    57.56 |                         60.57 |\n",
       "| 2024-10-04 |        124.92 |         88.28 |        118.72 |          Up |    59.10 |                         68.08 |\n",
       "| 2024-10-11 |        134.80 |         90.17 |        120.14 |          Up |    63.14 |                         91.80 |\n",
       "| 2024-10-18 |        138.00 |         92.03 |        121.56 |          Up |    64.36 |                         94.51 |\n",
       "| 2024-10-25 |        141.54 |         93.89 |        122.59 |          Up |    65.72 |                         96.42 |\n",
       "| 2024-11-01 |        135.40 |         95.61 |        122.77 |          Up |    61.35 |                         80.39 |\n",
       "| 2024-11-08 |        147.63 |         97.61 |        123.82 |          Up |    66.18 |                        100.84 |"
      ],
      "text/plain": [
       "<IPython.core.display.Markdown object>"
      ]
     },
     "metadata": {},
     "output_type": "display_data"
    }
   ],
   "source": [
    "from finmas.data.market.technical_analysis import TechnicalAnalysisTool\n",
    "\n",
    "ta_tool = TechnicalAnalysisTool(end_date=PRICE_END_DATE)\n",
    "\n",
    "display(Markdown(ta_tool.run(TICKER)))"
   ]
  },
  {
   "cell_type": "markdown",
   "metadata": {},
   "source": [
    "## Create Crew\n",
    "\n",
    "When creating the crew, then the SEC filing will be parsed.\n",
    "The following sections will be extracted, and a Vector Store Index will be created for each section.\n",
    "\n",
    "- Management's Discussion and Analysis\n",
    "- Risk Factors\n",
    "\n",
    "The creation of Vector Store Index requires an embedding model."
   ]
  },
  {
   "cell_type": "code",
   "execution_count": null,
   "metadata": {},
   "outputs": [],
   "source": [
    "%%capture\n",
    "start = time.time()\n",
    "crew = CombinedCrew(\n",
    "    ticker=TICKER,\n",
    "    llm_provider=LLM_PROVIDER,\n",
    "    llm_model=LLM_MODEL,\n",
    "    embedding_model=EMBEDDING_MODEL,\n",
    "    filing=filing,\n",
    "    temperature=LLM_TEMPERATURE,\n",
    "    max_tokens=LLM_MAX_TOKENS,\n",
    "    similarity_top_k=SIMILARITY_TOP_K,\n",
    "    records=news_records,\n",
    "    price_end_date=PRICE_END_DATE,\n",
    "    news_source=\"Benzinga\",\n",
    "    news_start=NEWS_START_DATE,\n",
    "    news_end=NEWS_END_DATE,\n",
    ")"
   ]
  },
  {
   "cell_type": "code",
   "execution_count": null,
   "metadata": {},
   "outputs": [
    {
     "data": {
      "text/markdown": [
       "## News Index Creation Metrics\n",
       "\n",
       "- Embedding Model: text-embedding-3-small\n",
       "- Time spent: 3s\n",
       "- Number of nodes: 92\n",
       "- Text length: 254379\n",
       "- Chunk size: 1024 tokens\n",
       "- Chunk overlap: 200 tokens\n",
       "- Total embedding token count: 57621\n",
       "- Estimated embedding model cost for total tokens: $0.00115242\n",
       "\n",
       "\n",
       "## Sec Index Creation Metrics\n",
       "\n",
       "- Embedding Model: text-embedding-3-small\n",
       "- Time spent: 1s\n",
       "- Number of nodes: 9\n",
       "- Text length: 37503\n",
       "- Chunk size: 1024 tokens\n",
       "- Chunk overlap: 200 tokens\n",
       "- Total embedding token count: 8665\n",
       "- Estimated embedding model cost for total tokens: $0.0001733\n",
       "\n",
       "\n"
      ],
      "text/plain": [
       "<IPython.core.display.Markdown object>"
      ]
     },
     "metadata": {},
     "output_type": "display_data"
    }
   ],
   "source": [
    "from finmas.crews.utils import get_index_creation_metrics\n",
    "\n",
    "index_creation_metrics_message = get_index_creation_metrics(crew)\n",
    "display(Markdown(index_creation_metrics_message))"
   ]
  },
  {
   "cell_type": "markdown",
   "metadata": {},
   "source": [
    "## Run the analysis"
   ]
  },
  {
   "cell_type": "code",
   "execution_count": null,
   "metadata": {},
   "outputs": [],
   "source": [
    "%%capture\n",
    "output = crew.crew().kickoff(inputs=inputs)\n",
    "time_spent = time.time() - start\n",
    "display(f\"Time spent: {format_time_spent(time_spent)}\")"
   ]
  },
  {
   "cell_type": "markdown",
   "metadata": {},
   "source": [
    "## Save the results"
   ]
  },
  {
   "cell_type": "code",
   "execution_count": null,
   "metadata": {},
   "outputs": [
    {
     "data": {
      "text/plain": [
       "'Output saved to: output/combined/NVDA_combined_analysis_20241118_152043.md'"
      ]
     },
     "metadata": {},
     "output_type": "display_data"
    }
   ],
   "source": [
    "crew_run_metrics = CrewRunMetrics(\n",
    "    config=crew.config, token_usage=output.token_usage, time_spent=time_spent\n",
    ")\n",
    "file_path = save_crew_output(crew_run_metrics, output.raw, index_creation_metrics_message)\n",
    "display(f\"Output saved to: {file_path}\")"
   ]
  },
  {
   "cell_type": "markdown",
   "metadata": {},
   "source": [
    "## Display the results"
   ]
  },
  {
   "cell_type": "code",
   "execution_count": null,
   "metadata": {},
   "outputs": [
    {
     "data": {
      "text/markdown": [
       "# Crew Output\n",
       "\n",
       "Based on a comprehensive analysis of NVIDIA Corporation (NVDA), I recommend a **Hold** position on the stock at this time. \n",
       "\n",
       "**Rationale for Recommendation:**\n",
       "\n",
       "1. **Positive Market Sentiment**: The current market sentiment towards NVDA is overwhelmingly positive, driven by the successful launch of the new AI model, Llama-3.1-Nemotron-70B-Instruct, which has outperformed competitors. This innovation, along with strong demand for GPUs from hyperscalers, indicates a robust market for NVDA's products.\n",
       "\n",
       "2. **Strong Financial Performance**: NVDA has demonstrated exceptional financial health, with total revenue skyrocketing from approximately $5.93 billion in Q4 2022 to $30.04 billion in Q2 2024, reflecting a growth rate of over 400%. Net income has surged from $680 million to $16.6 billion in the same period, showcasing a year-over-year increase of over 2,300%. The earnings per share (EPS) has also increased dramatically from $0.27 to $15.45, indicating strong profitability and shareholder value creation.\n",
       "\n",
       "3. **High Profit Margins**: NVDA's net profit margin peaked at 57.14% in Q2 2024, demonstrating effective cost management alongside substantial revenue generation. This high margin is a positive indicator of the company's operational efficiency.\n",
       "\n",
       "4. **Technical Indicators**: The stock has shown a strong upward price trend, with closing prices rising from $116.00 to $147.63 recently. However, momentum indicators such as the Relative Strength Index (RSI) suggest that the stock is approaching overbought levels, indicating a potential price correction or consolidation in the near future. The Bollinger Bands percentage also indicates high volatility, which could lead to short-term price fluctuations.\n",
       "\n",
       "5. **Strategic Growth Opportunities**: Management's discussion in the SEC filings highlights the company's focus on accelerated computing and expansion into AI and other computationally intensive fields. The formation of strategic partnerships, such as with healthcare startup Aidoc, further diversifies revenue streams and solidifies NVDA's market position.\n",
       "\n",
       "**Conclusion**: While NVDA is well-positioned for future growth, the current technical indicators suggest caution due to potential overbought conditions. Therefore, maintaining a **Hold** position allows investors to benefit from the company's strong fundamentals and market position while being mindful of possible short-term volatility. Investors should monitor the stock closely for any signs of a price correction or further developments in the AI sector that could impact NVDA's growth trajectory.\n",
       "\n",
       "## Crew Run Metrics\n",
       "\n",
       "- Total tokens: 14207\n",
       "- Prompt tokens: 10682\n",
       "- Successful Requests: 10\n",
       "Estimated LLM Model cost for total tokens: $0.0037173\n",
       "\n",
       "Time spent: 55s\n",
       "\n",
       "## Inputs\n",
       "\n",
       "- News Source: Benzinga\n",
       "- Date range: 2024-10-15 - 2024-11-10\n",
       "- Number of articles: 90\n",
       "- SEC Filing Form: 10-K\n",
       "- Filing Date: 2024-02-21\n",
       "## Configuration\n",
       "\n",
       "- Crew Name: combined\n",
       "- Ticker: NVDA\n",
       "- LLM: openai / gpt-4o-mini\n",
       "- Temperature: 0.0, Max tokens: 1024\n",
       "\n",
       "Agent Configuration:\n",
       "\n",
       "- Max iterations: 10, Max requests per minute: 30\n",
       "- Embedding Model: text-embedding-3-small, similarity_top_k: 3\n",
       "\n",
       "## Agents\n",
       "\n",
       "### News Analyst\n",
       "\n",
       "- **Role**: Financial News Analyst\n",
       "- **Goal**: Extract and analyze key information from individual news items to provide a deep understanding of events impacting the company {ticker}.\n",
       "- **Backstory**: You are an experienced financial news analyst with a strong focus on identifying key events and interpreting their implications for a company's financial performance and market standing.\n",
       "\n",
       "### SEC Filing Analyst\n",
       "\n",
       "- **Role**: SEC Filing Management's Discussion and Analysis Section Analyst\n",
       "- **Goal**: Analyze {ticker}'s {form} SEC filing to extract information from the Management's Discussion and Analysis section.\n",
       "- **Backstory**: You are an expert in analyzing the Management's Discussion and Analysis (MD&A) section of SEC filings. Your deep understanding of this section allows you to extract critical insights about a company's performance, strategic direction, and management's perspective on future risks and opportunities. Your expertise helps stakeholders gain a nuanced understanding of the company's operational and financial outlook.\n",
       "\n",
       "### Fundamental Analyst\n",
       "\n",
       "- **Role**: Fundamental Analyst\n",
       "- **Goal**: Analyze {ticker}'s fundamental data to evaluate the company's profitability and growth potential.\n",
       "- **Backstory**: You are an expert in fundamental analysis of stocks and have a strong understanding of key financial metrics such as revenue growth, earnings per share, and net profit margin.\n",
       "\n",
       "### Technical Analyst\n",
       "\n",
       "- **Role**: Technical Analyst\n",
       "- **Goal**: Analyze {ticker}'s historical price data to identify trends and patterns that can help predict future price movements.\n",
       "- **Backstory**: You are an expert in technical indicators for stock prices, and use them to analyze the trend, momentum and volatility of stocks.\n",
       "\n",
       "### Stock Advisor\n",
       "\n",
       "- **Role**: Stock Advisor\n",
       "- **Goal**: Provide investment recommendations to whether buy, sell, or hold {ticker} based on news, information from SEC filing, fundamental market data and technical analysis.\n",
       "- **Backstory**: You are a world class stock picker and provide advice to clients based on a comprehensive analysis of news, SEC filings, fundamental data, and technical indicators.\n",
       "\n",
       "## Tasks\n",
       "\n",
       "### News Analysis\n",
       "\n",
       "- **Description**: Analyze the latest news articles related to {ticker} to understand the current market sentiment and potential impact on the stock price. Use the provided tool to analyze the news sentiment, key topics, and the overall market sentiment towards the company. Use the latest news data available to analyze the impact on the stock price.\n",
       "- **Expected Output**: The final answer should be a summary of the market sentiment towards the company based on the latest news articles. Highlight key topics and sentiments that could impact the stock price in the short term.\n",
       "- **Agent**: news_analyst\n",
       "\n",
       "### SEC Filing Analysis\n",
       "\n",
       "- **Description**: Analyze the {form} SEC filing for the stock ticker {ticker} by using your assigned tool. Focus on the section Management's Discussion and analysis. Extract information about the growth in key market segments, and forward-looking statements from management. Include information about any key products and forward-looking statements from management.\n",
       "- **Expected Output**: The final answer should be a report that includes information about market segments, management discussion, and forward-looking statements from management.\n",
       "- **Agent**: sec_filing_analyst\n",
       "\n",
       "### Fundamental Analysis\n",
       "\n",
       "- **Description**: Analyze {ticker}'s fundamental data to evaluate the company's profitability and growth potential. Use the provided tool to analyze total revenue, net income, earnings per share, net profit margin, and possibly other key financial metrics. Use available Trailing Twelve Months (TTM) data in your analysis if necessary.\n",
       "- **Expected Output**: The final answer should be a summary of the company's financial health and growth prospects based on the data available.\n",
       "- **Agent**: fundamental_analyst\n",
       "\n",
       "### Technical Analysis\n",
       "\n",
       "- **Description**: Analyze {ticker}'s historical price data to predict future price movements. Use the provided tool to analyze price trends, momentum, and volatility. For momentum use the RSI indicator, and for volatility use the Bollinger Bands percentage indicator. Use the available historical price data in the tool to analyze the stock's price movements.\n",
       "- **Expected Output**: The final answer should be a summary of the company's price trends and potential future price movements based on the data available.\n",
       "- **Agent**: technical_analyst\n",
       "\n",
       "### Stock Advisor Task\n",
       "\n",
       "- **Description**: Analyze {ticker}'s fundamental and technical data to provide a recommendation on whether to buy, sell, or hold the stock. Use the information from SEC Filing and News analysis to provide a comprehensive view of the stock's investment potential.\n",
       "- **Expected Output**: The final answer should be a recommendation (buy, sell, or hold) based on the analysis of the company's profitability, historical fundamental data and technical indicators. The recommendation should be supported by the data available, and should be clear and concise. Highlight the latest fundamental data, technical data, news information, and SEC filing information that support your recommendation.\n",
       "- **Agent**: stock_advisor\n",
       "\n",
       "\n",
       "\n",
       "## News Index Creation Metrics\n",
       "\n",
       "- Embedding Model: text-embedding-3-small\n",
       "- Time spent: 3s\n",
       "- Number of nodes: 92\n",
       "- Text length: 254379\n",
       "- Chunk size: 1024 tokens\n",
       "- Chunk overlap: 200 tokens\n",
       "- Total embedding token count: 57621\n",
       "- Estimated embedding model cost for total tokens: $0.00115242\n",
       "\n",
       "\n",
       "## Sec Index Creation Metrics\n",
       "\n",
       "- Embedding Model: text-embedding-3-small\n",
       "- Time spent: 1s\n",
       "- Number of nodes: 9\n",
       "- Text length: 37503\n",
       "- Chunk size: 1024 tokens\n",
       "- Chunk overlap: 200 tokens\n",
       "- Total embedding token count: 8665\n",
       "- Estimated embedding model cost for total tokens: $0.0001733\n",
       "\n",
       "\n"
      ],
      "text/plain": [
       "<IPython.core.display.Markdown object>"
      ]
     },
     "metadata": {},
     "output_type": "display_data"
    }
   ],
   "source": [
    "crew_output = file_path.read_text(encoding=\"utf-8\")\n",
    "display(Markdown(crew_output))"
   ]
  }
 ],
 "metadata": {
  "kernelspec": {
   "display_name": ".venv",
   "language": "python",
   "name": "python3"
  },
  "language_info": {
   "codemirror_mode": {
    "name": "ipython",
    "version": 3
   },
   "file_extension": ".py",
   "mimetype": "text/x-python",
   "name": "python",
   "nbconvert_exporter": "python",
   "pygments_lexer": "ipython3",
   "version": "3.11.9"
  }
 },
 "nbformat": 4,
 "nbformat_minor": 4
}

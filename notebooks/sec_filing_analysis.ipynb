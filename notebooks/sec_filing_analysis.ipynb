{
 "cells": [
  {
   "cell_type": "markdown",
   "metadata": {},
   "source": [
    "# SEC Filing Analysis by FinMAS\n",
    "\n",
    "This notebook can be used to run an analysis by SEC filing crew instead of using the UI / panel app."
   ]
  },
  {
   "cell_type": "code",
   "execution_count": null,
   "metadata": {},
   "outputs": [],
   "source": [
    "# Convenience function to change the working directory to the root of the project if necessary\n",
    "import os\n",
    "from pathlib import Path\n",
    "\n",
    "if not Path(\"finmas\").exists():\n",
    "    os.chdir(\"..\")\n",
    "# print(f\"Current working directory: {Path.cwd()}\")"
   ]
  },
  {
   "cell_type": "code",
   "execution_count": null,
   "metadata": {},
   "outputs": [],
   "source": [
    "%%capture\n",
    "import time\n",
    "\n",
    "from edgar import Company\n",
    "from IPython.display import Markdown, display\n",
    "\n",
    "from finmas.crews import SECFilingSectionsCrew\n",
    "from finmas.crews.utils import CrewRunMetrics, get_yaml_config_as_markdown, save_crew_output\n",
    "from finmas.utils.common import format_time_spent"
   ]
  },
  {
   "cell_type": "markdown",
   "metadata": {},
   "source": [
    "To be able to run this notebook make sure the necessary API_KEY for the LLM is set in the `.env` file\n",
    "or set in the environment variables manually\n",
    "\n",
    "| provider | API_KEY |\n",
    "| --- | --- |\n",
    "| groq | GROQ_API_KEY |\n",
    "| openai | OPENAI_API_KEY |"
   ]
  },
  {
   "cell_type": "markdown",
   "metadata": {},
   "source": [
    "## Configuration\n",
    "\n",
    "List of Groq models: https://console.groq.com/settings/limits"
   ]
  },
  {
   "cell_type": "code",
   "execution_count": null,
   "metadata": {},
   "outputs": [],
   "source": [
    "TICKER = \"META\"\n",
    "FILING_FORM = \"10-K\"\n",
    "\n",
    "# LLM_PROVIDER = \"groq\"\n",
    "# LLM_MODEL = \"llama3-8b-8192\"\n",
    "LLM_PROVIDER = \"openai\"\n",
    "LLM_MODEL = \"gpt-4o\"\n",
    "# LLM_MODEL = \"gpt-4o-mini\"\n",
    "\n",
    "# EMBEDDING_MODEL = \"BAAI/bge-small-en-v1.5\"\n",
    "EMBEDDING_MODEL = \"text-embedding-3-small\"\n",
    "\n",
    "SIMILARITY_TOP_K = 3\n",
    "# LLM configuration\n",
    "LLM_TEMPERATURE = 0.0\n",
    "LLM_MAX_TOKENS = 1024\n",
    "\n",
    "CREW_NAME = \"sec_mda_risk_factors\"\n",
    "\n",
    "inputs = {\"ticker\": TICKER, \"form\": FILING_FORM}"
   ]
  },
  {
   "cell_type": "markdown",
   "metadata": {},
   "source": [
    "## Get filing"
   ]
  },
  {
   "cell_type": "code",
   "execution_count": null,
   "metadata": {},
   "outputs": [],
   "source": [
    "filing = Company(TICKER).get_filings(form=FILING_FORM).latest(1)"
   ]
  },
  {
   "cell_type": "markdown",
   "metadata": {},
   "source": [
    "## Crew Configuration"
   ]
  },
  {
   "cell_type": "code",
   "execution_count": null,
   "metadata": {},
   "outputs": [],
   "source": [
    "config_path = Path.cwd() / f\"finmas/crews/{CREW_NAME}/config\""
   ]
  },
  {
   "cell_type": "markdown",
   "metadata": {},
   "source": [
    "### Agents"
   ]
  },
  {
   "cell_type": "code",
   "execution_count": null,
   "metadata": {},
   "outputs": [
    {
     "data": {
      "text/markdown": [
       "### SEC Filing MDA Analyzer\n",
       "\n",
       "- **Role**: SEC Filing Management's Discussion and Analysis Section Analyst\n",
       "- **Goal**: Analyze META's 10-K SEC filing to extract information from the Management's Discussion and Analysis section.\n",
       "- **Backstory**: You are an expert in analyzing the Management's Discussion and Analysis (MD&A) section of SEC filings. Your deep understanding of this section allows you to extract critical insights about a company's performance, strategic direction, and management's perspective on future risks and opportunities. Your expertise helps stakeholders gain a nuanced understanding of the company's operational and financial outlook.\n",
       "\n",
       "### SEC Filing Risk Factors Analyzer\n",
       "\n",
       "- **Role**: SEC Filing Risk Factors Section Analyst\n",
       "- **Goal**: Analyze META's 10-K SEC filing to extract information from the Risk Factor's section.\n",
       "- **Backstory**: You are an expert in analyzing the Risk Factors sections of SEC filings, skilled at extracting detailed risk information presented by the company. Your insights help stakeholders understand the potential risks that could impact the company's performance and operations.\n",
       "\n",
       "### SEC Filing Summarizer\n",
       "\n",
       "- **Role**: SEC Filing Summarizer\n",
       "- **Goal**: Summarize the information from SEC filing into a concise, easy-to-read report for META.\n",
       "- **Backstory**: You are a financial writer skilled at synthesizing complex financial and operational information from SEC filings into clear and informative summaries. Your work ensures that stakeholders can easily understand the essential takeaways without delving into the full details of regulatory documents.\n",
       "\n"
      ],
      "text/plain": [
       "<IPython.core.display.Markdown object>"
      ]
     },
     "metadata": {},
     "output_type": "display_data"
    }
   ],
   "source": [
    "display(Markdown(get_yaml_config_as_markdown(config_path, \"agents\", inputs=inputs)))"
   ]
  },
  {
   "cell_type": "markdown",
   "metadata": {},
   "source": [
    "### Tasks Definition"
   ]
  },
  {
   "cell_type": "code",
   "execution_count": null,
   "metadata": {},
   "outputs": [
    {
     "data": {
      "text/markdown": [
       "### SEC Filing MDA Task\n",
       "\n",
       "- **Description**: Analyze the 10-K SEC filing for the stock ticker META by using your assigned tool. Focus on the section Management's Discussion and analysis. Extract information about the growth in key market segments, and forward-looking statements from management. Include information about any key products and forward-looking statements from management.\n",
       "- **Expected Output**: The final answer should be a report that includes information about market segments, management discussion, and forward-looking statements from management.\n",
       "- **Agent**: sec_filing_mda_analyzer\n",
       "\n",
       "### SEC Filing Risk Factors Task\n",
       "\n",
       "- **Description**: Analyze the 10-K SEC filing for the stock ticker META by using your assigned tool. Focus on the section Risk Factors.\n",
       "- **Expected Output**: The final answer should be a report that includes information about the most important risk factors mentioned in the SEC filing.\n",
       "- **Agent**: sec_filing_risk_factors_analyzer\n",
       "\n",
       "### SEC Filing Summary Task\n",
       "\n",
       "- **Description**: Create a summary report for the stock ticker META 10-K SEC filing. Include key insights extracted from the SEC filing with key market segments, key developments and information from Management's Discussion and analysis and Risk Factors sections.\n",
       "- **Expected Output**: A concise summary report that provides key information from the SEC filing, including insights from the Management's Discussion and Analysis and Risk Factors sections.\n",
       "- **Agent**: sec_filing_summarizer\n",
       "\n"
      ],
      "text/plain": [
       "<IPython.core.display.Markdown object>"
      ]
     },
     "metadata": {},
     "output_type": "display_data"
    }
   ],
   "source": [
    "display(Markdown(get_yaml_config_as_markdown(config_path, \"tasks\", inputs=inputs)))"
   ]
  },
  {
   "cell_type": "markdown",
   "metadata": {},
   "source": [
    "## Create Crew\n",
    "\n",
    "When creating the crew, then the SEC filing will be parsed.\n",
    "The following sections will be extracted, and a Vector Store Index will be created for each section.\n",
    "\n",
    "- Management's Discussion and Analysis\n",
    "- Risk Factors\n",
    "\n",
    "The creation of Vector Store Index requires an embedding model."
   ]
  },
  {
   "cell_type": "code",
   "execution_count": null,
   "metadata": {},
   "outputs": [],
   "source": [
    "%%capture\n",
    "start = time.time()\n",
    "crew = SECFilingSectionsCrew(\n",
    "    ticker=TICKER,\n",
    "    llm_provider=LLM_PROVIDER,\n",
    "    llm_model=LLM_MODEL,\n",
    "    embedding_model=EMBEDDING_MODEL,\n",
    "    filing=filing,\n",
    "    temperature=LLM_TEMPERATURE,\n",
    "    max_tokens=LLM_MAX_TOKENS,\n",
    "    similarity_top_k=SIMILARITY_TOP_K,\n",
    ")"
   ]
  },
  {
   "cell_type": "code",
   "execution_count": null,
   "metadata": {},
   "outputs": [
    {
     "data": {
      "text/markdown": [
       "Mda Index Creation Metrics:  \n",
       "Embedding Model: text-embedding-3-small  \n",
       "Time spent: 2s  \n",
       "Number of nodes: 16  \n",
       "Text length: 63416  \n",
       "Chunk size: 1024 tokens  \n",
       "Chunk overlap: 200 tokens  \n",
       "Total embedding token count: 14635  \n",
       "Estimated embedding model cost for total tokens: $0.0002927  \n",
       "\n",
       "\n",
       "Risk Factors Index Creation Metrics:  \n",
       "Embedding Model: text-embedding-3-small  \n",
       "Time spent: 2s  \n",
       "Number of nodes: 42  \n",
       "Text length: 181865  \n",
       "Chunk size: 1024 tokens  \n",
       "Chunk overlap: 200 tokens  \n",
       "Total embedding token count: 39451  \n",
       "Estimated embedding model cost for total tokens: $0.00078902  \n",
       "\n",
       "\n"
      ],
      "text/plain": [
       "<IPython.core.display.Markdown object>"
      ]
     },
     "metadata": {},
     "output_type": "display_data"
    }
   ],
   "source": [
    "from finmas.crews.utils import get_index_creation_metrics\n",
    "\n",
    "index_creation_metrics_message = get_index_creation_metrics(crew)\n",
    "display(Markdown(index_creation_metrics_message))"
   ]
  },
  {
   "cell_type": "markdown",
   "metadata": {},
   "source": [
    "## Run the analysis"
   ]
  },
  {
   "cell_type": "code",
   "execution_count": null,
   "metadata": {},
   "outputs": [],
   "source": [
    "%%capture\n",
    "inputs = {\"ticker\": TICKER, \"form\": filing.form}\n",
    "output = crew.crew().kickoff(inputs=inputs)\n",
    "time_spent = time.time() - start\n",
    "display(f\"Time spent: {format_time_spent(time_spent)}\")"
   ]
  },
  {
   "cell_type": "markdown",
   "metadata": {},
   "source": [
    "## Save the results"
   ]
  },
  {
   "cell_type": "code",
   "execution_count": null,
   "metadata": {},
   "outputs": [
    {
     "data": {
      "text/plain": [
       "'Output saved to: output/sec_mda_risk_factors/META_sec_mda_risk_factors_analysis_20241118_131151.md'"
      ]
     },
     "metadata": {},
     "output_type": "display_data"
    }
   ],
   "source": [
    "crew_run_metrics = CrewRunMetrics(\n",
    "    config=crew.config, token_usage=output.token_usage, time_spent=time_spent\n",
    ")\n",
    "file_path = save_crew_output(crew_run_metrics, output.raw)\n",
    "display(f\"Output saved to: {file_path}\")"
   ]
  },
  {
   "cell_type": "markdown",
   "metadata": {},
   "source": [
    "## Display the results"
   ]
  },
  {
   "cell_type": "code",
   "execution_count": null,
   "metadata": {},
   "outputs": [
    {
     "data": {
      "text/markdown": [
       "# Crew Output\n",
       "\n",
       "**META 10-K SEC Filing Summary Report**\n",
       "\n",
       "**Introduction**\n",
       "\n",
       "This report provides a concise summary of the key insights from META's 10-K SEC filing, focusing on the Management's Discussion and Analysis, key developments and market segments, and risk factors. The aim is to present stakeholders with a clear understanding of META's financial performance, strategic initiatives, and potential risks.\n",
       "\n",
       "**Insights from Management's Discussion and Analysis**\n",
       "\n",
       "In 2023, META reported a total revenue of $134.90 billion, marking a 16% increase from the previous year. This growth was primarily driven by an increase in advertising revenue, with ad impressions across META's Family of Apps rising by 28% year-over-year. However, the average price per ad decreased by 9%. The company's annual worldwide ARPU (Average Revenue Per User) was $44.60, a 13% increase from 2022, with notable growth in Europe and the Rest of World regions. Looking forward, user growth is expected to be concentrated in regions with lower ARPU, which may impact future ARPU growth rates.\n",
       "\n",
       "META plans to enhance its reporting by providing year-over-year percentage changes in ad impressions and average price per ad by geographic region starting in 2024. The company is also investing heavily in privacy-enhancing technologies and AI to improve ad targeting and measurement, despite facing challenges from regulatory changes and platform developments. Significant investments are being made in AI and the metaverse, with the latter seen as a long-term initiative that could unlock future monetization opportunities.\n",
       "\n",
       "**Key Developments and Market Segments**\n",
       "\n",
       "META is actively developing new ad products and formats, such as Reels ads and business messaging ad products, to boost user engagement and monetization. The focus on privacy-enhancing technologies and AI is central to improving its advertising products and services. These strategic initiatives are expected to drive growth in key market segments and enhance META's competitive position.\n",
       "\n",
       "**Summary of Key Risk Factors**\n",
       "\n",
       "META's 10-K filing outlines several risk factors that could adversely affect its business, financial condition, and results of operations:\n",
       "\n",
       "1. **Product Offerings and User Engagement**: Maintaining user engagement is critical, as declines could reduce advertising revenue. Changes in user preferences or failure to innovate could negatively impact growth.\n",
       "\n",
       "2. **Advertising Revenue**: Reductions in marketer spending or changes in digital advertising trends could significantly affect revenue.\n",
       "\n",
       "3. **Competition**: Intense competition in the technology and social media sectors could impact market share and profitability.\n",
       "\n",
       "4. **Media Coverage**: Unfavorable media coverage could damage reputation and user trust, affecting engagement and revenue.\n",
       "\n",
       "5. **Technical Infrastructure**: The ability to scale and adapt technical infrastructure is crucial, with failures potentially disrupting operations.\n",
       "\n",
       "6. **Government Regulation**: Privacy and data protection laws pose significant risks, with compliance potentially increasing operational costs.\n",
       "\n",
       "7. **Data Security**: Breaches and cyber-attacks pose threats to user data and privacy, potentially leading to legal liabilities.\n",
       "\n",
       "8. **Dual Class Stock Structure**: This structure limits the influence of Class A stockholders, concentrating control with certain stakeholders.\n",
       "\n",
       "9. **Catastrophic Events**: Natural disasters or pandemics could disrupt operations and affect financial performance.\n",
       "\n",
       "10. **Economic Conditions and Tax Laws**: Changes in economic conditions or tax laws could impact financial results and strategic decisions.\n",
       "\n",
       "**Conclusion**\n",
       "\n",
       "META's 10-K SEC filing highlights the company's strong financial performance in 2023, driven by advertising revenue growth and strategic investments in AI and the metaverse. However, the company faces significant risks, including competition, regulatory challenges, and data security threats. Stakeholders should consider these factors when evaluating META's future prospects. The company's focus on innovation and privacy-enhancing technologies positions it well for future growth, but careful management of the identified risks will be crucial to sustaining its market position.\n",
       "\n",
       "## Crew Run Metrics\n",
       "\n",
       "Total tokens: 7291 Prompt tokens: 5613  \n",
       "Successful Requests: 7  \n",
       "Estimated LLM Model cost for total tokens: $0.053235  \n",
       "\n",
       "Time spent: 1m 7s\n",
       "\n",
       "## Configuration\n",
       "\n",
       "Crew Name: sec_mda_risk_factors  \n",
       "Ticker: META  \n",
       "LLM: openai / gpt-4o  \n",
       "Temperature: 0.0 Max tokens: 1024  \n",
       "Agent Configuration:  \n",
       "Max iterations: 10 Max requests per minute: 30  \n",
       "Embedding Model: text-embedding-3-small similarity_top_k: 3  \n",
       "\n",
       "## Agents\n",
       "\n",
       "### SEC Filing MDA Analyzer\n",
       "\n",
       "- **Role**: SEC Filing Management's Discussion and Analysis Section Analyst\n",
       "- **Goal**: Analyze {ticker}'s {form} SEC filing to extract information from the Management's Discussion and Analysis section.\n",
       "- **Backstory**: You are an expert in analyzing the Management's Discussion and Analysis (MD&A) section of SEC filings. Your deep understanding of this section allows you to extract critical insights about a company's performance, strategic direction, and management's perspective on future risks and opportunities. Your expertise helps stakeholders gain a nuanced understanding of the company's operational and financial outlook.\n",
       "\n",
       "### SEC Filing Risk Factors Analyzer\n",
       "\n",
       "- **Role**: SEC Filing Risk Factors Section Analyst\n",
       "- **Goal**: Analyze {ticker}'s {form} SEC filing to extract information from the Risk Factor's section.\n",
       "- **Backstory**: You are an expert in analyzing the Risk Factors sections of SEC filings, skilled at extracting detailed risk information presented by the company. Your insights help stakeholders understand the potential risks that could impact the company's performance and operations.\n",
       "\n",
       "### SEC Filing Summarizer\n",
       "\n",
       "- **Role**: SEC Filing Summarizer\n",
       "- **Goal**: Summarize the information from SEC filing into a concise, easy-to-read report for {ticker}.\n",
       "- **Backstory**: You are a financial writer skilled at synthesizing complex financial and operational information from SEC filings into clear and informative summaries. Your work ensures that stakeholders can easily understand the essential takeaways without delving into the full details of regulatory documents.\n",
       "\n",
       "## Tasks\n",
       "\n",
       "### SEC Filing MDA Task\n",
       "\n",
       "- **Description**: Analyze the {form} SEC filing for the stock ticker {ticker} by using your assigned tool. Focus on the section Management's Discussion and analysis. Extract information about the growth in key market segments, and forward-looking statements from management. Include information about any key products and forward-looking statements from management.\n",
       "- **Expected Output**: The final answer should be a report that includes information about market segments, management discussion, and forward-looking statements from management.\n",
       "- **Agent**: sec_filing_mda_analyzer\n",
       "\n",
       "### SEC Filing Risk Factors Task\n",
       "\n",
       "- **Description**: Analyze the {form} SEC filing for the stock ticker {ticker} by using your assigned tool. Focus on the section Risk Factors.\n",
       "- **Expected Output**: The final answer should be a report that includes information about the most important risk factors mentioned in the SEC filing.\n",
       "- **Agent**: sec_filing_risk_factors_analyzer\n",
       "\n",
       "### SEC Filing Summary Task\n",
       "\n",
       "- **Description**: Create a summary report for the stock ticker {ticker} {form} SEC filing. Include key insights extracted from the SEC filing with key market segments, key developments and information from Management's Discussion and analysis and Risk Factors sections.\n",
       "- **Expected Output**: A concise summary report that provides key information from the SEC filing, including insights from the Management's Discussion and Analysis and Risk Factors sections.\n",
       "- **Agent**: sec_filing_summarizer\n",
       "\n",
       "SEC Filing Form: 10-K  \n",
       "Filing Date: 2024-02-02  \n"
      ],
      "text/plain": [
       "<IPython.core.display.Markdown object>"
      ]
     },
     "metadata": {},
     "output_type": "display_data"
    }
   ],
   "source": [
    "crew_output = file_path.read_text(encoding=\"utf-8\")\n",
    "display(Markdown(crew_output))"
   ]
  }
 ],
 "metadata": {
  "kernelspec": {
   "display_name": ".venv",
   "language": "python",
   "name": "python3"
  },
  "language_info": {
   "codemirror_mode": {
    "name": "ipython",
    "version": 3
   },
   "file_extension": ".py",
   "mimetype": "text/x-python",
   "name": "python",
   "nbconvert_exporter": "python",
   "pygments_lexer": "ipython3",
   "version": "3.11.9"
  }
 },
 "nbformat": 4,
 "nbformat_minor": 4
}
